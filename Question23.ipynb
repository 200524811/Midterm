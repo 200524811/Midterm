{
 "cells": [
  {
   "cell_type": "code",
   "execution_count": 1,
   "id": "6fe5682d",
   "metadata": {},
   "outputs": [
    {
     "name": "stdout",
     "output_type": "stream",
     "text": [
      "cater\n",
      "crate\n",
      "react\n"
     ]
    }
   ],
   "source": [
    "def is_anagram(string1, string2):\n",
    "\n",
    "    a = sorted(string1)\n",
    "    b = sorted(string2)\n",
    "    if a == b:\n",
    "        return True\n",
    "    else:\n",
    "        return False\n",
    "\n",
    "\n",
    "def anagrams(file_name, string):\n",
    "    ana = [] \n",
    "    words = open('words.txt')\n",
    "    for word in words:\n",
    "        word = word.strip() \n",
    "        isit = is_anagram(string, word)\n",
    "        if isit: \n",
    "            ana.append(word)\n",
    "    words.close()\n",
    "    for a in ana: \n",
    "        print(a)\n",
    "\n",
    "\n",
    "anagrams('words.txt', 'trace') "
   ]
  }
 ],
 "metadata": {
  "kernelspec": {
   "display_name": "Python 3 (ipykernel)",
   "language": "python",
   "name": "python3"
  },
  "language_info": {
   "codemirror_mode": {
    "name": "ipython",
    "version": 3
   },
   "file_extension": ".py",
   "mimetype": "text/x-python",
   "name": "python",
   "nbconvert_exporter": "python",
   "pygments_lexer": "ipython3",
   "version": "3.9.12"
  }
 },
 "nbformat": 4,
 "nbformat_minor": 5
}
